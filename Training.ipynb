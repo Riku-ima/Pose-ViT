{
 "cells": [
  {
   "cell_type": "markdown",
   "id": "1e16e191",
   "metadata": {},
   "source": [
    "# TRAIN "
   ]
  },
  {
   "cell_type": "code",
   "execution_count": 72,
   "id": "52052b0d",
   "metadata": {},
   "outputs": [],
   "source": [
    "import os\n",
    "import numpy as np\n",
    "import time\n",
    "import matplotlib.pyplot as plt\n",
    "from tqdm import tqdm\n",
    "from easydict import EasyDict\n",
    "import copy\n",
    "import json\n",
    "from sklearn.metrics import confusion_matrix\n",
    "\n",
    "\n",
    "import torch\n",
    "import torch.nn as nn\n",
    "import torch.optim as optim\n",
    "import torchvision\n",
    "from torchvision import models\n",
    "from torch.utils.data import DataLoader,random_split\n",
    "from torch.utils.data import Subset\n",
    "\n",
    "from utils import Dataset\n",
    "from utils import utils\n",
    "\n",
    "import models \n",
    "\n",
    "import sklearn"
   ]
  },
  {
   "cell_type": "code",
   "execution_count": 74,
   "id": "fa0f00bd",
   "metadata": {},
   "outputs": [],
   "source": [
    "#model in [Times_AcT , AcT , Densenet]\n",
    "model_name='AcT'\n",
    "\n",
    "args=EasyDict({\n",
    "    'base_model': model_name,\n",
    "    'pretrained':True,\n",
    "    'lr':0.05,\n",
    "    'start_epoch':1,\n",
    "    'num_epochs':25,\n",
    "    'continue_epoch':False,\n",
    "    \n",
    "    #Dataset parms\n",
    "    'num_classes':10,\n",
    "    'batch_size':16,\n",
    "    \n",
    "    #Path params\n",
    "    'annotation_path':'../dataset/annotation_dict.json',\n",
    "    'augmented_annotation_path':'../dataset/augmented_annotation_dict.json',\n",
    "    'model_path':'./models/weights/'+model_name+'/',\n",
    "    'history_path':'./history/'\n",
    "})"
   ]
  },
  {
   "cell_type": "code",
   "execution_count": 75,
   "id": "bb5b8c95",
   "metadata": {},
   "outputs": [],
   "source": [
    "def Train_model(model,dataloaders_dict,criterion,optimizer,args):\n",
    "    start_time=time.time()\n",
    "    \n",
    "    train_acc_history=[]\n",
    "    val_acc_history=[]\n",
    "    train_loss_history=[]\n",
    "    val_loss_history=[]\n",
    "    train_f1_history=[]\n",
    "    val_f1_history=[]\n",
    "    plot_epoch=[]\n",
    "    \n",
    "    best_model_wts=copy.deepcopy(model.state_dict())\n",
    "    best_acc=0.0\n",
    "    best_epoch=0\n",
    "    model.to(device)\n",
    "    num_epoch=args.num\n",
    "    for epoch in range(1,num_epoch+1):\n",
    "        for phase in ['train','val']:\n",
    "            epoch_time=time.time()\n",
    "            if phase == 'train':\n",
    "                model.train()\n",
    "                train_pred_class=[]\n",
    "                train_ground_truths=[]\n",
    "            else:\n",
    "                model.eval()\n",
    "                val_pred_class=[]\n",
    "                val_ground_truths=[]\n",
    "            running_loss=0.0\n",
    "            running_corrects=0\n",
    "            train_n_total=1\n",
    "            \n",
    "            pbar=tqdm(dataloaders_dict[phase])\n",
    "            i=0\n",
    "            for sample in pbar:\n",
    "                #動画のみなら 'video'  joints なら 'joints' \n",
    "                #inputs=sample['video'].to(device)\n",
    "                inputs=sample['joints'].to(device)\n",
    "                \n",
    "                labels=sample['action'].to(device)\n",
    "                \n",
    "                optimizer.zero_grad()\n",
    "                \n",
    "                with torch.set_grad_enabled(phase=='train'):\n",
    "                    outputs=model(inputs)\n",
    "                    loss=criterion(outputs,torch.max(labels,1)[1])\n",
    "                    \n",
    "                    _,preds=torch.max(outputs,1)\n",
    "                    \n",
    "                    if phase=='train':\n",
    "                        train_pred_class.extend(preds.detach().cpu().numpy())\n",
    "                        train_ground_truths.extend(torch.max(labels,1)[1].detach().cpu().numpy())\n",
    "                    else:\n",
    "                        val_pred_class.extend(preds.detach().cpu().numpy())\n",
    "                        val_ground_truths.extend(torch.max(labels,1)[1].detach().cpu().numpy())\n",
    "                    if phase=='train':\n",
    "                        loss.backward()\n",
    "                        optimizer.step()\n",
    "                    \n",
    "                running_loss+=loss.item()*inputs.size(0)\n",
    "                running_corrects+=torch.sum(preds==torch.max(labels,1)[1])\n",
    "                \n",
    "                pbar.set_description('Phase: {} || Epoch: {} || Loss{:.5f}'.format(phase,epoch,running_loss/train_n_total))\n",
    "                train_n_total+=1\n",
    "            \n",
    "            epoch_loss=running_loss/len(dataloaders_dict[phase].dataset)\n",
    "            epoch_acc=running_corrects/len(dataloaders_dict[phase].dataset)\n",
    "            \n",
    "            #Train and Val have done\n",
    "            epoch_end_time=time.time()-epoch_time\n",
    "            if phase=='train':\n",
    "                print('Training Complete in {:.0f}m {:.0f}s '.format(epoch_end_time//60,epoch_end_time%60))\n",
    "            else:\n",
    "                print('Validation Complete in {:.0f}m {:.0f}s '.format(epoch_end_time//60,epoch_end_time%60))\n",
    "            #print('{} Loss: {:.4f} Acc:{:.4f} % '.format(phase,epoch_loss,epoch_acc))\n",
    "            \n",
    "            if phase =='train':\n",
    "                train_acc_history.append(epoch_acc)\n",
    "                train_loss_history.append(epoch_loss)\n",
    "                train_pred_classes=np.asarray(train_pred_class)\n",
    "                train_ground_truths=np.asarray(train_ground_truths)\n",
    "                \n",
    "                train_accuracy,train_precision,train_recall,train_f1=utils.Get_scores(\n",
    "                    train_pred_classes , train_ground_truths)\n",
    "                \n",
    "                train_f1_history.append(train_f1)\n",
    "                train_confusion_matrix=np.array_str(confusion_matrix(train_ground_truths,train_pred_class,labels=[0, 1, 2, 3, 4, 5, 6, 7, 8, 9]))\n",
    "                print('Epoch: {} || Train_Acc: {} || Train_Loss: {}'.format(\n",
    "                    epoch, train_accuracy, epoch_loss\n",
    "                ))\n",
    "                print(f'train: \\n{train_confusion_matrix}')\n",
    "                plot_epoch.append(epoch)\n",
    "                \n",
    "                train_loss=epoch_loss\n",
    "            \n",
    "            # For Checkpointing and Confusion Matrix\n",
    "            if phase == 'val':\n",
    "                val_acc_history.append(epoch_acc)\n",
    "                val_loss_history.append(epoch_loss)\n",
    "                val_pred_classes = np.asarray(val_pred_class)\n",
    "                val_ground_truths = np.asarray(val_ground_truths)\n",
    "                \n",
    "                val_accuracy,val_precision,val_recall,val_f1 = utils.Get_scores(\n",
    "                    val_pred_classes, val_ground_truths\n",
    "                )\n",
    "                \n",
    "                val_f1_history.append(val_f1)\n",
    "                val_confusion_matrix = np.array_str(confusion_matrix(val_ground_truths, val_pred_classes, labels=[0, 1, 2, 3, 4, 5, 6, 7, 8, 9]))\n",
    "                print('Epoch: {} || Val_Acc: {} || Val_Loss: {}'.format(\n",
    "                    epoch, val_accuracy, epoch_loss\n",
    "                ))\n",
    "                print(f'val: \\n{val_confusion_matrix}')\n",
    "\n",
    "                # Deep Copy Model if best accuracy\n",
    "                if epoch_acc > best_acc:\n",
    "                    best_acc = epoch_acc\n",
    "                    best_model_wts = copy.deepcopy(model.state_dict())\n",
    "                    best_epoch=epoch+1\n",
    "                    \n",
    "                # set current loss to val loss for write history\n",
    "                val_loss = epoch_loss\n",
    "            \n",
    "            \n",
    "        #モデル/optimizerを保存\n",
    "        model_name= utils.save_weights(model, args, epoch, optimizer)\n",
    "            \n",
    "        #writehistory\n",
    "        # Write History after train and validation phase\n",
    "        utils.write_history(\n",
    "                    args,\n",
    "                    epoch,\n",
    "                    train_loss,train_accuracy,train_f1,train_precision,train_recall,train_confusion_matrix,\n",
    "                    val_loss,val_accuracy,val_f1,val_precision,val_recall,val_confusion_matrix,\n",
    "                    best_acc)\n",
    "        \n",
    "        \n",
    "    end=time.time()-start_time\n",
    "    print('all done in {:.0f}m {:.0f}s'.format(end//60,end%60))\n",
    "    print('Best val Acc {:.4f}'.format(best_acc))\n",
    "        \n",
    "    #load best model\n",
    "    model.load_state_dict(best_model_wts)\n",
    "    save_path=os.path.join(args.model_path,'best_weights_{}.pth'.format(best_epoch))\n",
    "    torch.save(model.state_dict(),save_path)\n",
    "    return model, train_loss_history, val_loss_history, train_acc_history, val_acc_history, train_f1, val_f1, plot_epoch\n"
   ]
  },
  {
   "cell_type": "markdown",
   "id": "5ae3e6e8",
   "metadata": {},
   "source": [
    "### Dataset Dataloaderの作成...."
   ]
  },
  {
   "cell_type": "code",
   "execution_count": 54,
   "id": "1c12b1c6",
   "metadata": {},
   "outputs": [],
   "source": [
    "if args.base_model in ['Times_AcT' , 'AcT']:\n",
    "    augment=False\n",
    "    poseData=True\n",
    "    joints_to_numpy=True\n",
    "else:\n",
    "    augment=True\n",
    "    poseData=False\n",
    "    joints_to_numpy=False\n",
    "    \n",
    "dataset=Dataset.BasketballDataset(annotation_dict='./dataset/annotation_dict.json',\n",
    "                          augmented_dict='./dataset/augmented_annotation_dict.json',\n",
    "                         augment=augment,poseData=poseData,joints_to_numpy=joints_to_numpy)\n",
    "\n",
    "\n",
    "train_dataset_size=dataset.__len__()\n",
    "train_num=int(train_dataset_size*0.7)\n",
    "val_num=train_dataset_size-train_num\n",
    "\n",
    "### ver 2.\n",
    "train_dataset,val_dataset=torch.utils.data.random_split(dataset,[train_num,val_num])\n",
    "\n",
    "#test用のsubset\n",
    "train_subset=Subset(train_dataset,list(range(0,7000)))\n",
    "val_subset=Subset(val_dataset,list(range(0,3000)))\n",
    "\n",
    "#train_loader=DataLoader(train_subset,shuffle=True,batch_size=4)\n",
    "#val_loader=DataLoader(val_subset,shuffle=False,batch_size=4)\n",
    "\n",
    "train_loader=DataLoader(train_dataset,shuffle=True,batch_size=args.batch_size)\n",
    "val_loader=DataLoader(val_dataset,shuffle=False,batch_size=args.batch_size)\n",
    "\n",
    "dataloaders_dict={'train':train_loader,'val':val_loader}\n",
    "\n"
   ]
  },
  {
   "cell_type": "code",
   "execution_count": null,
   "id": "f94c6328",
   "metadata": {},
   "outputs": [],
   "source": [
    "class Focal_Loss(nn.Module):\n",
    "    def __init__(self,gamma):\n",
    "        super().__init__()\n",
    "        self.gamma=gamma\n",
    "        self.bceloss=nn.BCELoss(reduction='none')\n",
    "    \n",
    "    def forward(self,out,tar):\n",
    "        bce=self.bceloss(out,tar)\n",
    "        bce_exp=torch.exp(-bce)\n",
    "        forcal_loss=(1-bce_exp)**self.gamma*bce\n",
    "        return forcal_loss.mean()"
   ]
  },
  {
   "cell_type": "code",
   "execution_count": 71,
   "id": "41c7b197",
   "metadata": {
    "scrolled": true
   },
   "outputs": [
    {
     "name": "stderr",
     "output_type": "stream",
     "text": [
      "Phase: train || Epoch: 1 || Loss32.32643: 100%|████████████████████████████████████████████████████████████████████████| 1623/1623 [01:02<00:00, 25.77it/s]\n",
      "/usr/local/lib/python3.8/dist-packages/sklearn/metrics/_classification.py:1318: UndefinedMetricWarning: Precision is ill-defined and being set to 0.0 in labels with no predicted samples. Use `zero_division` parameter to control this behavior.\n",
      "  _warn_prf(average, modifier, msg_start, len(result))\n"
     ]
    },
    {
     "name": "stdout",
     "output_type": "stream",
     "text": [
      "Training Complete in 1m 3s \n",
      "Epoch: 1 || Train_Acc: 0.14480526984860742 || Train_Loss: 2.021102401374361\n",
      "train: \n",
      "[[  23    6  579   78    3    1    0    0    0    2]\n",
      " [  22    1  635   84    0    0    0    0    4    2]\n",
      " [ 131   29 3420  509    3    7    4    0    9    8]\n",
      " [  77   17 2083  281    1    3    4    0    2   10]\n",
      " [  11    1  263   24    0    0    0    0    0    1]\n",
      " [  55    5 1438  168    1    3    1    0    6    3]\n",
      " [  95   17 2231  331    2    2    7    0    4    2]\n",
      " [  11    2  410   75    0    1    2    0    0    1]\n",
      " [ 131   17 3790  579    1    5    3    0   11    8]\n",
      " [ 271   46 6849  988    9    8    9    0   10   13]]\n"
     ]
    },
    {
     "name": "stderr",
     "output_type": "stream",
     "text": [
      "Phase: val || Epoch: 1 || Loss30.75007: 100%|████████████████████████████████████████████████████████████████████████████| 696/696 [00:14<00:00, 48.44it/s]\n",
      "/usr/local/lib/python3.8/dist-packages/sklearn/metrics/_classification.py:1318: UndefinedMetricWarning: Precision is ill-defined and being set to 0.0 in labels with no predicted samples. Use `zero_division` parameter to control this behavior.\n",
      "  _warn_prf(average, modifier, msg_start, len(result))\n"
     ]
    },
    {
     "name": "stdout",
     "output_type": "stream",
     "text": [
      "Validation Complete in 0m 14s \n",
      "Epoch: 1 || Val_Acc: 0.16214272874348373 || Val_Loss: 1.9236066297685073\n",
      "val: \n",
      "[[   0    0  304    0    0    0    0    0    0    0]\n",
      " [   0    0  322    0    0    0    0    0    0    0]\n",
      " [   0    0 1804    0    0    0    0    0    0    0]\n",
      " [   0    0 1012    0    0    0    0    0    0    0]\n",
      " [   0    0  126    0    0    0    0    0    0    0]\n",
      " [   0    0  682    0    0    0    0    0    0    0]\n",
      " [   0    0 1175    0    0    0    0    0    0    0]\n",
      " [   0    0  210    0    0    0    0    0    0    0]\n",
      " [   0    0 1945    0    0    0    0    0    0    0]\n",
      " [   0    0 3546    0    0    0    0    0    0    0]]\n"
     ]
    },
    {
     "name": "stderr",
     "output_type": "stream",
     "text": [
      "Phase: train || Epoch: 2 || Loss31.59774: 100%|████████████████████████████████████████████████████████████████████████| 1623/1623 [01:03<00:00, 25.54it/s]\n",
      "/usr/local/lib/python3.8/dist-packages/sklearn/metrics/_classification.py:1318: UndefinedMetricWarning: Precision is ill-defined and being set to 0.0 in labels with no predicted samples. Use `zero_division` parameter to control this behavior.\n",
      "  _warn_prf(average, modifier, msg_start, len(result))\n"
     ]
    },
    {
     "name": "stdout",
     "output_type": "stream",
     "text": [
      "Training Complete in 1m 4s \n",
      "Epoch: 2 || Train_Acc: 0.146846950961131 || Train_Loss: 1.9755436035392695\n",
      "train: \n",
      "[[  16    4  608   64    0    0    0    0    0    0]\n",
      " [  12    3  655   78    0    0    0    0    0    0]\n",
      " [ 125   26 3597  372    0    0    0    0    0    0]\n",
      " [  56   13 2213  196    0    0    0    0    0    0]\n",
      " [   9    3  263   25    0    0    0    0    0    0]\n",
      " [  42    8 1492  138    0    0    0    0    0    0]\n",
      " [  58    9 2396  228    0    0    0    0    0    0]\n",
      " [   9    3  448   42    0    0    0    0    0    0]\n",
      " [ 116   20 4017  392    0    0    0    0    0    0]\n",
      " [ 206   44 7230  723    0    0    0    0    0    0]]\n"
     ]
    },
    {
     "name": "stderr",
     "output_type": "stream",
     "text": [
      "Phase: val || Epoch: 2 || Loss31.58879: 100%|████████████████████████████████████████████████████████████████████████████| 696/696 [00:14<00:00, 48.48it/s]\n",
      "/usr/local/lib/python3.8/dist-packages/sklearn/metrics/_classification.py:1318: UndefinedMetricWarning: Precision is ill-defined and being set to 0.0 in labels with no predicted samples. Use `zero_division` parameter to control this behavior.\n",
      "  _warn_prf(average, modifier, msg_start, len(result))\n"
     ]
    },
    {
     "name": "stdout",
     "output_type": "stream",
     "text": [
      "Validation Complete in 0m 14s \n",
      "Epoch: 2 || Val_Acc: 0.16214272874348373 || Val_Loss: 1.9760738278429606\n",
      "val: \n",
      "[[   0    0  304    0    0    0    0    0    0    0]\n",
      " [   0    0  322    0    0    0    0    0    0    0]\n",
      " [   0    0 1804    0    0    0    0    0    0    0]\n",
      " [   0    0 1012    0    0    0    0    0    0    0]\n",
      " [   0    0  126    0    0    0    0    0    0    0]\n",
      " [   0    0  682    0    0    0    0    0    0    0]\n",
      " [   0    0 1175    0    0    0    0    0    0    0]\n",
      " [   0    0  210    0    0    0    0    0    0    0]\n",
      " [   0    0 1945    0    0    0    0    0    0    0]\n",
      " [   0    0 3546    0    0    0    0    0    0    0]]\n"
     ]
    },
    {
     "name": "stderr",
     "output_type": "stream",
     "text": [
      "Phase: train || Epoch: 3 || Loss31.80205: 100%|████████████████████████████████████████████████████████████████████████| 1623/1623 [01:03<00:00, 25.59it/s]\n",
      "/usr/local/lib/python3.8/dist-packages/sklearn/metrics/_classification.py:1318: UndefinedMetricWarning: Precision is ill-defined and being set to 0.0 in labels with no predicted samples. Use `zero_division` parameter to control this behavior.\n",
      "  _warn_prf(average, modifier, msg_start, len(result))\n"
     ]
    },
    {
     "name": "stdout",
     "output_type": "stream",
     "text": [
      "Training Complete in 1m 3s \n",
      "Epoch: 3 || Train_Acc: 0.14823375322624138 || Train_Loss: 1.9883170345723296\n",
      "train: \n",
      "[[  12    7  590   82    0    0    0    0    1    0]\n",
      " [  26    6  636   79    0    0    0    0    1    0]\n",
      " [ 116   31 3560  408    0    1    0    0    4    0]\n",
      " [  58   21 2134  264    0    1    0    0    0    0]\n",
      " [   8    1  264   27    0    0    0    0    0    0]\n",
      " [  46   13 1442  177    0    1    0    0    1    0]\n",
      " [  71   25 2312  283    0    0    0    0    0    0]\n",
      " [  14    5  421   62    0    0    0    0    0    0]\n",
      " [ 123   42 3892  482    0    0    1    0    5    0]\n",
      " [ 220   77 6999  901    0    1    1    0    4    0]]\n"
     ]
    },
    {
     "name": "stderr",
     "output_type": "stream",
     "text": [
      "Phase: val || Epoch: 3 || Loss31.00762: 100%|████████████████████████████████████████████████████████████████████████████| 696/696 [00:14<00:00, 48.96it/s]\n",
      "/usr/local/lib/python3.8/dist-packages/sklearn/metrics/_classification.py:1318: UndefinedMetricWarning: Precision is ill-defined and being set to 0.0 in labels with no predicted samples. Use `zero_division` parameter to control this behavior.\n",
      "  _warn_prf(average, modifier, msg_start, len(result))\n"
     ]
    },
    {
     "name": "stdout",
     "output_type": "stream",
     "text": [
      "Validation Complete in 0m 14s \n",
      "Epoch: 3 || Val_Acc: 0.16214272874348373 || Val_Loss: 1.9397178682817222\n",
      "val: \n",
      "[[   0    0  304    0    0    0    0    0    0    0]\n",
      " [   0    0  322    0    0    0    0    0    0    0]\n",
      " [   0    0 1804    0    0    0    0    0    0    0]\n",
      " [   0    0 1012    0    0    0    0    0    0    0]\n",
      " [   0    0  126    0    0    0    0    0    0    0]\n",
      " [   0    0  682    0    0    0    0    0    0    0]\n",
      " [   0    0 1175    0    0    0    0    0    0    0]\n",
      " [   0    0  210    0    0    0    0    0    0    0]\n",
      " [   0    0 1945    0    0    0    0    0    0    0]\n",
      " [   0    0 3546    0    0    0    0    0    0    0]]\n"
     ]
    },
    {
     "name": "stderr",
     "output_type": "stream",
     "text": [
      "Phase: train || Epoch: 4 || Loss31.82911: 100%|████████████████████████████████████████████████████████████████████████| 1623/1623 [01:03<00:00, 25.73it/s]\n",
      "/usr/local/lib/python3.8/dist-packages/sklearn/metrics/_classification.py:1318: UndefinedMetricWarning: Precision is ill-defined and being set to 0.0 in labels with no predicted samples. Use `zero_division` parameter to control this behavior.\n",
      "  _warn_prf(average, modifier, msg_start, len(result))\n"
     ]
    },
    {
     "name": "stdout",
     "output_type": "stream",
     "text": [
      "Training Complete in 1m 3s \n",
      "Epoch: 4 || Train_Acc: 0.14807966408567355 || Train_Loss: 1.9900093422294596\n",
      "train: \n",
      "[[  14    4  587   86    0    0    1    0    0    0]\n",
      " [  11    2  649   84    0    0    1    0    1    0]\n",
      " [  86   26 3525  478    0    0    5    0    0    0]\n",
      " [  46   15 2112  299    0    0    4    0    2    0]\n",
      " [   8    0  248   41    0    0    0    0    3    0]\n",
      " [  34    7 1473  164    0    0    1    0    1    0]\n",
      " [  61   13 2305  307    0    0    2    0    3    0]\n",
      " [  10    1  449   42    0    0    0    0    0    0]\n",
      " [ 116   23 3846  551    0    0    7    0    2    0]\n",
      " [ 191   39 7052  910    0    0    7    0    4    0]]\n"
     ]
    },
    {
     "name": "stderr",
     "output_type": "stream",
     "text": [
      "Phase: val || Epoch: 4 || Loss30.70015: 100%|████████████████████████████████████████████████████████████████████████████| 696/696 [00:14<00:00, 48.93it/s]\n",
      "/usr/local/lib/python3.8/dist-packages/sklearn/metrics/_classification.py:1318: UndefinedMetricWarning: Precision is ill-defined and being set to 0.0 in labels with no predicted samples. Use `zero_division` parameter to control this behavior.\n",
      "  _warn_prf(average, modifier, msg_start, len(result))\n"
     ]
    },
    {
     "name": "stdout",
     "output_type": "stream",
     "text": [
      "Validation Complete in 0m 14s \n",
      "Epoch: 4 || Val_Acc: 0.16214272874348373 || Val_Loss: 1.9204841477824226\n",
      "val: \n",
      "[[   0    0  304    0    0    0    0    0    0    0]\n",
      " [   0    0  322    0    0    0    0    0    0    0]\n",
      " [   0    0 1804    0    0    0    0    0    0    0]\n",
      " [   0    0 1012    0    0    0    0    0    0    0]\n",
      " [   0    0  126    0    0    0    0    0    0    0]\n",
      " [   0    0  682    0    0    0    0    0    0    0]\n",
      " [   0    0 1175    0    0    0    0    0    0    0]\n",
      " [   0    0  210    0    0    0    0    0    0    0]\n",
      " [   0    0 1945    0    0    0    0    0    0    0]\n",
      " [   0    0 3546    0    0    0    0    0    0    0]]\n"
     ]
    },
    {
     "name": "stderr",
     "output_type": "stream",
     "text": [
      "Phase: train || Epoch: 5 || Loss31.77880: 100%|████████████████████████████████████████████████████████████████████████| 1623/1623 [01:03<00:00, 25.50it/s]\n",
      "/usr/local/lib/python3.8/dist-packages/sklearn/metrics/_classification.py:1318: UndefinedMetricWarning: Precision is ill-defined and being set to 0.0 in labels with no predicted samples. Use `zero_division` parameter to control this behavior.\n",
      "  _warn_prf(average, modifier, msg_start, len(result))\n"
     ]
    },
    {
     "name": "stdout",
     "output_type": "stream",
     "text": [
      "Training Complete in 1m 4s \n",
      "Epoch: 5 || Train_Acc: 0.14800261951538965 || Train_Loss: 1.9868634935474032\n",
      "train: \n",
      "[[  11    5  582   92    0    1    0    0    1    0]\n",
      " [  11    4  644   88    0    1    0    0    0    0]\n",
      " [  81   20 3552  460    0    3    0    0    4    0]\n",
      " [  43    7 2151  273    0    3    0    0    1    0]\n",
      " [   6    0  258   36    0    0    0    0    0    0]\n",
      " [  34    8 1430  203    0    2    0    0    3    0]\n",
      " [  55   12 2318  302    0    2    0    0    2    0]\n",
      " [  11    3  420   67    0    1    0    0    0    0]\n",
      " [  88   18 3953  483    0    3    0    0    0    0]\n",
      " [ 155   34 7056  949    0    4    0    0    5    0]]\n"
     ]
    },
    {
     "name": "stderr",
     "output_type": "stream",
     "text": [
      "Phase: val || Epoch: 5 || Loss30.78407: 100%|████████████████████████████████████████████████████████████████████████████| 696/696 [00:14<00:00, 48.45it/s]\n",
      "/usr/local/lib/python3.8/dist-packages/sklearn/metrics/_classification.py:1318: UndefinedMetricWarning: Precision is ill-defined and being set to 0.0 in labels with no predicted samples. Use `zero_division` parameter to control this behavior.\n",
      "  _warn_prf(average, modifier, msg_start, len(result))\n"
     ]
    },
    {
     "name": "stdout",
     "output_type": "stream",
     "text": [
      "Validation Complete in 0m 14s \n",
      "Epoch: 5 || Val_Acc: 0.16214272874348373 || Val_Loss: 1.925733523983418\n",
      "val: \n",
      "[[   0    0  304    0    0    0    0    0    0    0]\n",
      " [   0    0  322    0    0    0    0    0    0    0]\n",
      " [   0    0 1804    0    0    0    0    0    0    0]\n",
      " [   0    0 1012    0    0    0    0    0    0    0]\n",
      " [   0    0  126    0    0    0    0    0    0    0]\n",
      " [   0    0  682    0    0    0    0    0    0    0]\n",
      " [   0    0 1175    0    0    0    0    0    0    0]\n",
      " [   0    0  210    0    0    0    0    0    0    0]\n",
      " [   0    0 1945    0    0    0    0    0    0    0]\n",
      " [   0    0 3546    0    0    0    0    0    0    0]]\n"
     ]
    },
    {
     "name": "stderr",
     "output_type": "stream",
     "text": [
      "Phase: train || Epoch: 6 || Loss31.72633: 100%|████████████████████████████████████████████████████████████████████████| 1623/1623 [01:03<00:00, 25.51it/s]\n",
      "/usr/local/lib/python3.8/dist-packages/sklearn/metrics/_classification.py:1318: UndefinedMetricWarning: Precision is ill-defined and being set to 0.0 in labels with no predicted samples. Use `zero_division` parameter to control this behavior.\n",
      "  _warn_prf(average, modifier, msg_start, len(result))\n"
     ]
    },
    {
     "name": "stdout",
     "output_type": "stream",
     "text": [
      "Training Complete in 1m 4s \n",
      "Epoch: 6 || Train_Acc: 0.14734774066797643 || Train_Loss: 1.983583038111048\n",
      "train: \n",
      "[[   9    2  587   94    0    0    0    0    0    0]\n",
      " [  13    8  627  100    0    0    0    0    0    0]\n",
      " [  68   27 3509  511    0    4    1    0    0    0]\n",
      " [  31   20 2128  297    0    2    0    0    0    0]\n",
      " [   2    3  254   41    0    0    0    0    0    0]\n",
      " [  13    8 1424  233    0    2    0    0    0    0]\n",
      " [  31   16 2285  358    0    1    0    0    0    0]\n",
      " [   8    2  431   60    0    1    0    0    0    0]\n",
      " [  64   40 3860  580    0    0    1    0    0    0]\n",
      " [ 105   65 7006 1023    0    4    0    0    0    0]]\n"
     ]
    },
    {
     "name": "stderr",
     "output_type": "stream",
     "text": [
      "Phase: val || Epoch: 6 || Loss31.68619: 100%|████████████████████████████████████████████████████████████████████████████| 696/696 [00:14<00:00, 48.47it/s]\n",
      "/usr/local/lib/python3.8/dist-packages/sklearn/metrics/_classification.py:1318: UndefinedMetricWarning: Precision is ill-defined and being set to 0.0 in labels with no predicted samples. Use `zero_division` parameter to control this behavior.\n",
      "  _warn_prf(average, modifier, msg_start, len(result))\n"
     ]
    },
    {
     "name": "stdout",
     "output_type": "stream",
     "text": [
      "Validation Complete in 0m 14s \n",
      "Epoch: 6 || Val_Acc: 0.16214272874348373 || Val_Loss: 1.982166849536131\n",
      "val: \n",
      "[[   0    0  304    0    0    0    0    0    0    0]\n",
      " [   0    0  322    0    0    0    0    0    0    0]\n",
      " [   0    0 1804    0    0    0    0    0    0    0]\n",
      " [   0    0 1012    0    0    0    0    0    0    0]\n",
      " [   0    0  126    0    0    0    0    0    0    0]\n",
      " [   0    0  682    0    0    0    0    0    0    0]\n",
      " [   0    0 1175    0    0    0    0    0    0    0]\n",
      " [   0    0  210    0    0    0    0    0    0    0]\n",
      " [   0    0 1945    0    0    0    0    0    0    0]\n",
      " [   0    0 3546    0    0    0    0    0    0    0]]\n"
     ]
    },
    {
     "name": "stderr",
     "output_type": "stream",
     "text": [
      "Phase: train || Epoch: 7 || Loss32.21737:  19%|██████████████▏                                                          | 316/1623 [00:12<00:51, 25.43it/s]\n"
     ]
    },
    {
     "ename": "KeyboardInterrupt",
     "evalue": "",
     "output_type": "error",
     "traceback": [
      "\u001b[0;31m---------------------------------------------------------------------------\u001b[0m",
      "\u001b[0;31mKeyboardInterrupt\u001b[0m                         Traceback (most recent call last)",
      "Input \u001b[0;32mIn [71]\u001b[0m, in \u001b[0;36m<module>\u001b[0;34m\u001b[0m\n\u001b[1;32m      8\u001b[0m device\u001b[38;5;241m=\u001b[39mtorch\u001b[38;5;241m.\u001b[39mdevice(\u001b[38;5;124m'\u001b[39m\u001b[38;5;124mcuda:0\u001b[39m\u001b[38;5;124m'\u001b[39m \u001b[38;5;28;01mif\u001b[39;00m torch\u001b[38;5;241m.\u001b[39mcuda\u001b[38;5;241m.\u001b[39mis_available() \u001b[38;5;28;01melse\u001b[39;00m \u001b[38;5;124m'\u001b[39m\u001b[38;5;124mcpu\u001b[39m\u001b[38;5;124m'\u001b[39m)\n\u001b[1;32m     10\u001b[0m \u001b[38;5;66;03m# Train and evaluate\u001b[39;00m\n\u001b[0;32m---> 11\u001b[0m model, train_loss_history, val_loss_history,train_acc_history, val_acc_history, train_f1_score, val_f1_score, plot_epoch \u001b[38;5;241m=\u001b[39m \u001b[43mTrain_model\u001b[49m\u001b[43m(\u001b[49m\u001b[43mmodel\u001b[49m\u001b[43m,\u001b[49m\u001b[43mdataloaders_dict\u001b[49m\u001b[43m,\u001b[49m\u001b[43mcriterion\u001b[49m\u001b[43m,\u001b[49m\u001b[43moptimizer\u001b[49m\u001b[43m,\u001b[49m\u001b[43margs\u001b[49m\u001b[43m,\u001b[49m\u001b[43mnum_epoch\u001b[49m\u001b[38;5;241;43m=\u001b[39;49m\u001b[38;5;241;43m25\u001b[39;49m\u001b[43m)\u001b[49m\n",
      "Input \u001b[0;32mIn [53]\u001b[0m, in \u001b[0;36mTrain_model\u001b[0;34m(model, dataloaders_dict, criterion, optimizer, args, num_epoch)\u001b[0m\n\u001b[1;32m     53\u001b[0m         val_ground_truths\u001b[38;5;241m.\u001b[39mextend(torch\u001b[38;5;241m.\u001b[39mmax(labels,\u001b[38;5;241m1\u001b[39m)[\u001b[38;5;241m1\u001b[39m]\u001b[38;5;241m.\u001b[39mdetach()\u001b[38;5;241m.\u001b[39mcpu()\u001b[38;5;241m.\u001b[39mnumpy())\n\u001b[1;32m     54\u001b[0m     \u001b[38;5;28;01mif\u001b[39;00m phase\u001b[38;5;241m==\u001b[39m\u001b[38;5;124m'\u001b[39m\u001b[38;5;124mtrain\u001b[39m\u001b[38;5;124m'\u001b[39m:\n\u001b[0;32m---> 55\u001b[0m         \u001b[43mloss\u001b[49m\u001b[38;5;241;43m.\u001b[39;49m\u001b[43mbackward\u001b[49m\u001b[43m(\u001b[49m\u001b[43m)\u001b[49m\n\u001b[1;32m     56\u001b[0m         optimizer\u001b[38;5;241m.\u001b[39mstep()\n\u001b[1;32m     58\u001b[0m running_loss\u001b[38;5;241m+\u001b[39m\u001b[38;5;241m=\u001b[39mloss\u001b[38;5;241m.\u001b[39mitem()\u001b[38;5;241m*\u001b[39minputs\u001b[38;5;241m.\u001b[39msize(\u001b[38;5;241m0\u001b[39m)\n",
      "File \u001b[0;32m/usr/local/lib/python3.8/dist-packages/torch/_tensor.py:307\u001b[0m, in \u001b[0;36mTensor.backward\u001b[0;34m(self, gradient, retain_graph, create_graph, inputs)\u001b[0m\n\u001b[1;32m    298\u001b[0m \u001b[38;5;28;01mif\u001b[39;00m has_torch_function_unary(\u001b[38;5;28mself\u001b[39m):\n\u001b[1;32m    299\u001b[0m     \u001b[38;5;28;01mreturn\u001b[39;00m handle_torch_function(\n\u001b[1;32m    300\u001b[0m         Tensor\u001b[38;5;241m.\u001b[39mbackward,\n\u001b[1;32m    301\u001b[0m         (\u001b[38;5;28mself\u001b[39m,),\n\u001b[0;32m   (...)\u001b[0m\n\u001b[1;32m    305\u001b[0m         create_graph\u001b[38;5;241m=\u001b[39mcreate_graph,\n\u001b[1;32m    306\u001b[0m         inputs\u001b[38;5;241m=\u001b[39minputs)\n\u001b[0;32m--> 307\u001b[0m \u001b[43mtorch\u001b[49m\u001b[38;5;241;43m.\u001b[39;49m\u001b[43mautograd\u001b[49m\u001b[38;5;241;43m.\u001b[39;49m\u001b[43mbackward\u001b[49m\u001b[43m(\u001b[49m\u001b[38;5;28;43mself\u001b[39;49m\u001b[43m,\u001b[49m\u001b[43m \u001b[49m\u001b[43mgradient\u001b[49m\u001b[43m,\u001b[49m\u001b[43m \u001b[49m\u001b[43mretain_graph\u001b[49m\u001b[43m,\u001b[49m\u001b[43m \u001b[49m\u001b[43mcreate_graph\u001b[49m\u001b[43m,\u001b[49m\u001b[43m \u001b[49m\u001b[43minputs\u001b[49m\u001b[38;5;241;43m=\u001b[39;49m\u001b[43minputs\u001b[49m\u001b[43m)\u001b[49m\n",
      "File \u001b[0;32m/usr/local/lib/python3.8/dist-packages/torch/autograd/__init__.py:154\u001b[0m, in \u001b[0;36mbackward\u001b[0;34m(tensors, grad_tensors, retain_graph, create_graph, grad_variables, inputs)\u001b[0m\n\u001b[1;32m    151\u001b[0m \u001b[38;5;28;01mif\u001b[39;00m retain_graph \u001b[38;5;129;01mis\u001b[39;00m \u001b[38;5;28;01mNone\u001b[39;00m:\n\u001b[1;32m    152\u001b[0m     retain_graph \u001b[38;5;241m=\u001b[39m create_graph\n\u001b[0;32m--> 154\u001b[0m \u001b[43mVariable\u001b[49m\u001b[38;5;241;43m.\u001b[39;49m\u001b[43m_execution_engine\u001b[49m\u001b[38;5;241;43m.\u001b[39;49m\u001b[43mrun_backward\u001b[49m\u001b[43m(\u001b[49m\n\u001b[1;32m    155\u001b[0m \u001b[43m    \u001b[49m\u001b[43mtensors\u001b[49m\u001b[43m,\u001b[49m\u001b[43m \u001b[49m\u001b[43mgrad_tensors_\u001b[49m\u001b[43m,\u001b[49m\u001b[43m \u001b[49m\u001b[43mretain_graph\u001b[49m\u001b[43m,\u001b[49m\u001b[43m \u001b[49m\u001b[43mcreate_graph\u001b[49m\u001b[43m,\u001b[49m\u001b[43m \u001b[49m\u001b[43minputs\u001b[49m\u001b[43m,\u001b[49m\n\u001b[1;32m    156\u001b[0m \u001b[43m    \u001b[49m\u001b[43mallow_unreachable\u001b[49m\u001b[38;5;241;43m=\u001b[39;49m\u001b[38;5;28;43;01mTrue\u001b[39;49;00m\u001b[43m,\u001b[49m\u001b[43m \u001b[49m\u001b[43maccumulate_grad\u001b[49m\u001b[38;5;241;43m=\u001b[39;49m\u001b[38;5;28;43;01mTrue\u001b[39;49;00m\u001b[43m)\u001b[49m\n",
      "\u001b[0;31mKeyboardInterrupt\u001b[0m: "
     ]
    }
   ],
   "source": [
    "\n",
    "model=models.Times_AcT.generate_model(128)\n",
    "\n",
    "#損失関数の重み付けを考える。\n",
    "#まずはデータ数の逆比で [87.05399061 52.08567416 37.23393574 34.6588785  15.70067739 10.6260745 9.59260217  6.26012829  5.71417565  3.15643885]\n",
    "#weights=torch.tensor([87.0, 52.1, 37.2 ,34.7 , 15.7 ,10.6,9.59,  6.26,  5.71 , 3.16]).to('cuda:0')\n",
    "\n",
    "optimizer=optim.Adam(model.parameters(),lr=args.lr)\n",
    "criterion=nn.CrossEntropyLoss()\n",
    "device=torch.device('cuda:0' if torch.cuda.is_available() else 'cpu')\n",
    "\n",
    "# Train and evaluate\n",
    "model, train_loss_history, val_loss_history,train_acc_history, val_acc_history, train_f1_score, val_f1_score, plot_epoch = Train_model(model,dataloaders_dict,criterion,optimizer,args,num_epoch=25)\n"
   ]
  },
  {
   "cell_type": "code",
   "execution_count": null,
   "id": "2ac01603",
   "metadata": {},
   "outputs": [],
   "source": [
    "def get_action_list(anno_path='./dataset/annotation_dict.json'):\n",
    "    with open(anno_path) as f:\n",
    "        annotation_dict=list(json.load(f).items())\n",
    "    action_list={}\n",
    "    \n",
    "    # Defence - \"block\"\n",
    "    stop = [val for val in annotation_dict if val[1] == 0]\n",
    "    # Passing\n",
    "    ball_pass = [val for val in annotation_dict if val[1] == 1]\n",
    "    # Race or Running\n",
    "    race = [val for val in annotation_dict if val[1] == 2]\n",
    "    # Dribble\n",
    "    dribble = [val for val in annotation_dict if val[1] == 3]\n",
    "    # Shooting\n",
    "    shooting = [val for val in annotation_dict if val[1] == 4]\n",
    "    # Ball In Hand\n",
    "    ballinhand = [val for val in annotation_dict if val[1] == 5]\n",
    "    # Defensive Position\n",
    "    defence = [val for val in annotation_dict if val[1] == 6]\n",
    "    # Pick Attempt\n",
    "    pick_attempt = [val for val in annotation_dict if val[1] == 7]\n",
    "    # No Action - Just standing\n",
    "    noaction = [val for val in annotation_dict if val[1] == 8]\n",
    "    # walk\n",
    "    walk = [val for val in annotation_dict if val[1] == 9]\n",
    "    \n",
    "    action_list={'stop':stop,'ball_pass':ball_pass,'race':race,'dribble':dribble,'shooting':shooting,\n",
    "               'ballinhand':ballinhand,'defence':defence,'pick_attempt':pick_attempt,'noaction':noaction,'walk':walk}\n",
    "    return action_list\n",
    "action_list=get_action_list()"
   ]
  },
  {
   "cell_type": "code",
   "execution_count": 59,
   "id": "f58fda12",
   "metadata": {},
   "outputs": [],
   "source": [
    "a=np.array([426,712,996,1070,2362,3490,3866,5924,6490,11749])/a.sum()"
   ]
  },
  {
   "cell_type": "code",
   "execution_count": 67,
   "id": "b9a1c3b5",
   "metadata": {},
   "outputs": [
    {
     "name": "stdout",
     "output_type": "stream",
     "text": [
      "[0.01148712 0.01919914 0.02685722 0.02885264 0.06369152 0.09410813\n",
      " 0.104247   0.15974114 0.17500337 0.31681273]\n"
     ]
    }
   ],
   "source": [
    "a_copy=np.copy(a)\n",
    "print(a)"
   ]
  },
  {
   "cell_type": "code",
   "execution_count": 68,
   "id": "3f8773ba",
   "metadata": {},
   "outputs": [],
   "source": [
    "for i in range(10):\n",
    "    a_copy[i]=1/a[i]"
   ]
  },
  {
   "cell_type": "code",
   "execution_count": 69,
   "id": "37821cb0",
   "metadata": {},
   "outputs": [
    {
     "name": "stdout",
     "output_type": "stream",
     "text": [
      "[87.05399061 52.08567416 37.23393574 34.6588785  15.70067739 10.6260745\n",
      "  9.59260217  6.26012829  5.71417565  3.15643885]\n"
     ]
    }
   ],
   "source": [
    "print(a_copy)"
   ]
  },
  {
   "cell_type": "code",
   "execution_count": null,
   "id": "6b5fe513",
   "metadata": {},
   "outputs": [],
   "source": []
  }
 ],
 "metadata": {
  "kernelspec": {
   "display_name": "Python 3 (ipykernel)",
   "language": "python",
   "name": "python3"
  },
  "language_info": {
   "codemirror_mode": {
    "name": "ipython",
    "version": 3
   },
   "file_extension": ".py",
   "mimetype": "text/x-python",
   "name": "python",
   "nbconvert_exporter": "python",
   "pygments_lexer": "ipython3",
   "version": "3.8.10"
  }
 },
 "nbformat": 4,
 "nbformat_minor": 5
}
